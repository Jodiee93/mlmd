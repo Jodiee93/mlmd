{
 "cells": [
  {
   "cell_type": "code",
   "execution_count": 1,
   "metadata": {
    "collapsed": true
   },
   "outputs": [],
   "source": [
    "import numpy as np\n",
    "import re\n",
    "import os\n",
    "import pychemia as pc\n",
    "import mlmd.tools.readers as readers\n",
    "import mlmd.tools.builders as builders"
   ]
  },
  {
   "cell_type": "code",
   "execution_count": 2,
   "metadata": {
    "collapsed": true
   },
   "outputs": [],
   "source": [
    "#path to the training.in file\n",
    "path_to_training_file='training_features_abinit.in'\n",
    "#reading the information in training.in file\n",
    "path_to_dft_data,code, pote_name, feature_parameters,\\\n",
    "GBR_E_parameters, GBR_F_parameters, nn_E_parameters, nn_F_parameters= readers.load_training(path_to_training_file)"
   ]
  },
  {
   "cell_type": "code",
   "execution_count": 3,
   "metadata": {
    "collapsed": true
   },
   "outputs": [],
   "source": [
    "# Loading the parameters for the feature calcuation\n",
    "\n",
    "trans = feature_parameters['trans']\n",
    "#trans -> translation dictionary {'chemical simbol':nuclear number Z}\n",
    "#trans={'C': 6, 'Si': 14} for a potential with C and O\n",
    "\n",
    "eta2b = feature_parameters['eta2b']\n",
    "#values for the eta 2 body parameter in the Filter Behler Parrinello features\n",
    "\n",
    "Rp = feature_parameters['Rp']\n",
    "#values for the Rp (gaussian centers 2 body interaction) parameter in the Filter Behler Parrinello features\n",
    "\n",
    "eta3b = feature_parameters['eta3b']\n",
    "#values for the eta 3 body parameter in the Filter Behler Parrinello features\n",
    "\n",
    "cos_p = feature_parameters['cos_p']\n",
    "#values for the cos(\\theta_P) (gaussian centers 3 body interaction) \n",
    "#parameter in the Filter Behler Parrinello features"
   ]
  },
  {
   "cell_type": "code",
   "execution_count": 4,
   "metadata": {
    "collapsed": false
   },
   "outputs": [
    {
     "name": "stdout",
     "output_type": "stream",
     "text": [
      "1.out\n",
      "2.out\n",
      "3.out\n",
      "LaMnO30.out\n"
     ]
    }
   ],
   "source": [
    "#loading information from the directory with the dft calculations\n",
    "species_simb, stru_names,stru,ftot_stru, ener= readers.load_abinit_structures(path_to_dft_data.strip())\n",
    "#species_simb -> array with length (number of structures)\n",
    "#species_simb[i] -> array with the composition of the i structure\n",
    "\n",
    "#stru_names -> empty array \n",
    "\n",
    "#stru -> numpy_array with lenght (number of structures)\n",
    "#stru[i] -> numpy_array with the positions of the atoms in structure i\n",
    "#stru[i] -> has shape (number_of_atoms, 3(xyz_coordinates))\n",
    "\n",
    "#ftot_stru -> numpy_array with lenght (number of structures)\n",
    "#ftot_stru[i] -> numpy_array with the forces over the atoms in structure i\n",
    "#ftot_stru[i] -> has shape (number_of_atoms, 3(xyz_coordinates))\n",
    "\n",
    "#ener -> numpy_aray with lenght (number of structures)\n",
    "#ener[i] -> energy of the i structure"
   ]
  },
  {
   "cell_type": "code",
   "execution_count": 6,
   "metadata": {
    "collapsed": false
   },
   "outputs": [
    {
     "name": "stdout",
     "output_type": "stream",
     "text": [
      "[array(['La', 'La', 'La', 'La', 'Mn', 'Mn', 'Mn', 'Mn', 'O', 'O', 'O', 'O',\n",
      "       'O', 'O', 'O', 'O', 'O', 'O', 'O', 'O'],\n",
      "      dtype='|S2'), array(['La', 'La', 'La', 'La', 'Mn', 'Mn', 'Mn', 'Mn', 'O', 'O', 'O', 'O',\n",
      "       'O', 'O', 'O', 'O', 'O', 'O', 'O', 'O'],\n",
      "      dtype='|S2'), array(['La', 'La', 'La', 'La', 'Mn', 'Mn', 'Mn', 'Mn', 'O', 'O', 'O', 'O',\n",
      "       'O', 'O', 'O', 'O', 'O', 'O', 'O', 'O'],\n",
      "      dtype='|S2'), array(['La', 'La', 'La', 'La', 'Mn', 'Mn', 'Mn', 'Mn', 'O', 'O', 'O', 'O',\n",
      "       'O', 'O', 'O', 'O', 'O', 'O', 'O', 'O'],\n",
      "      dtype='|S2')]\n"
     ]
    }
   ],
   "source": [
    "print species_simb"
   ]
  },
  {
   "cell_type": "code",
   "execution_count": null,
   "metadata": {
    "collapsed": false
   },
   "outputs": [],
   "source": [
    "print species_simb"
   ]
  },
  {
   "cell_type": "code",
   "execution_count": 5,
   "metadata": {
    "collapsed": false
   },
   "outputs": [
    {
     "name": "stdout",
     "output_type": "stream",
     "text": [
      "[[1, 1, 1, 1, 2, 2, 2, 2, 3, 3, 3, 3, 3, 3, 3, 3, 3, 3, 3, 3], [1, 1, 1, 1, 2, 2, 2, 2, 3, 3, 3, 3, 3, 3, 3, 3, 3, 3, 3, 3], [1, 1, 1, 1, 2, 2, 2, 2, 3, 3, 3, 3, 3, 3, 3, 3, 3, 3, 3, 3], [1, 1, 1, 1, 2, 2, 2, 2, 3, 3, 3, 3, 3, 3, 3, 3, 3, 3, 3, 3]]\n"
     ]
    }
   ],
   "source": [
    "print species_simb"
   ]
  },
  {
   "cell_type": "code",
   "execution_count": 6,
   "metadata": {
    "collapsed": false
   },
   "outputs": [
    {
     "name": "stderr",
     "output_type": "stream",
     "text": [
      "/home/accounts/zeledon/anaconda2/lib/python2.7/site-packages/mlmd-0.1-py2.7-linux-x86_64.egg/mlmd/tools/geometry.py:15: RuntimeWarning: invalid value encountered in divide\n",
      "/home/accounts/zeledon/anaconda2/lib/python2.7/site-packages/mlmd-0.1-py2.7-linux-x86_64.egg/mlmd/tools/geometry.py:16: RuntimeWarning: divide by zero encountered in divide\n",
      "/home/accounts/zeledon/anaconda2/lib/python2.7/site-packages/mlmd-0.1-py2.7-linux-x86_64.egg/mlmd/tools/geometry.py:18: RuntimeWarning: divide by zero encountered in divide\n",
      "/home/accounts/zeledon/anaconda2/lib/python2.7/site-packages/mlmd-0.1-py2.7-linux-x86_64.egg/mlmd/tools/geometry.py:94: RuntimeWarning: invalid value encountered in multiply\n",
      "/home/accounts/zeledon/anaconda2/lib/python2.7/site-packages/mlmd-0.1-py2.7-linux-x86_64.egg/mlmd/tools/geometry.py:97: RuntimeWarning: invalid value encountered in multiply\n"
     ]
    }
   ],
   "source": [
    "feat_2b, feat_3b,X, DX= builders.build_FBP_DFBP(trans, eta2b,\\\n",
    "                        Rp, eta3b, cos_p,species_simb, stru_names, stru)\n",
    "#X-> Filtered Behler & Parrinello (FBP)\n",
    "#X-> Feature representation of stru (numb_struc, numb_of_features)\n",
    "#DX -> Derivative of FBP\n",
    "#DX dimensions (structures, atoms_in_structure, number_of_features, xyz_components)\n",
    "#feat_2b numb_of_2-body featues\n",
    "#feat_3b numb_of_3-body featues"
   ]
  },
  {
   "cell_type": "code",
   "execution_count": 9,
   "metadata": {
    "collapsed": false
   },
   "outputs": [
    {
     "name": "stdout",
     "output_type": "stream",
     "text": [
      "(4, 459)\n",
      "(4, 20, 459, 3)\n"
     ]
    }
   ],
   "source": [
    "print X.shape\n",
    "print DX.shape"
   ]
  },
  {
   "cell_type": "code",
   "execution_count": 24,
   "metadata": {
    "collapsed": false
   },
   "outputs": [
    {
     "name": "stdout",
     "output_type": "stream",
     "text": [
      "Mn\n",
      "O\n",
      "La\n",
      "{8: 'O', 25: 'Mn', 57: 'La'}\n"
     ]
    }
   ],
   "source": [
    "trans_inv={}\n",
    "for i in trans.keys():\n",
    "    print i\n",
    "    trans_inv[trans[i]]= i\n",
    "print trans_inv"
   ]
  },
  {
   "cell_type": "code",
   "execution_count": 27,
   "metadata": {
    "collapsed": false
   },
   "outputs": [
    {
     "name": "stdout",
     "output_type": "stream",
     "text": [
      "La\n"
     ]
    }
   ],
   "source": [
    "print trans_inv[57]"
   ]
  },
  {
   "cell_type": "code",
   "execution_count": null,
   "metadata": {
    "collapsed": true
   },
   "outputs": [],
   "source": []
  },
  {
   "cell_type": "code",
   "execution_count": 5,
   "metadata": {
    "collapsed": false
   },
   "outputs": [
    {
     "name": "stdout",
     "output_type": "stream",
     "text": [
      "1.out\n",
      "2.out\n",
      "3.out\n",
      "LaMnO30.out\n"
     ]
    }
   ],
   "source": [
    "species_simb, stru_names,stru,ftot_stru, ener=load_abinit_structures(path_to_dft_data.strip(),trans)"
   ]
  },
  {
   "cell_type": "code",
   "execution_count": null,
   "metadata": {
    "collapsed": true
   },
   "outputs": [],
   "source": []
  },
  {
   "cell_type": "code",
   "execution_count": 4,
   "metadata": {
    "collapsed": true
   },
   "outputs": [],
   "source": [
    "def load_abinit_structures(dir_path, trans):\n",
    "    fl_nms= os.listdir(dir_path) #file names\n",
    "    comp_str='([a-z A-Z _ - & \\. 0-9]+\\.out)'\n",
    "    fl_nms1= re.findall(comp_str,str(fl_nms))\n",
    "    stru= []\n",
    "    name= []\n",
    "    ener= []\n",
    "    ftot_stru= []\n",
    "    species_simb= []\n",
    "    for ii, name_fl in enumerate(fl_nms1):\n",
    "        print name_fl\n",
    "        nat, mass, latvec_in, strten_in,z_struc= get_nat_mass_latvec_in_strten_in(dir_path+'/'+name_fl, trans)\n",
    "        xred, fcart, ener_p= get_xred_fcart(dir_path+'/'+name_fl, nat)\n",
    "        stru.append(np.dot(latvec_in, xred).T)\n",
    "        #print s.shape\n",
    "        species_simb.append(z_struc)\n",
    "        ener.append(ener_p)\n",
    "        ftot_stru.append(fcart.T)\n",
    "        name.append(name_fl)\n",
    "    ftot_stru= np.squeeze(np.array(ftot_stru))\n",
    "    ener= np.array(ener)\n",
    "    stru= np.array(stru)\n",
    "    #from abinit\n",
    "    #stru in borh\n",
    "    #ftot_stru hartree/borh\n",
    "    #ener hartree\n",
    "    #transfomr the output to Angstroms and eV\n",
    "    #1 Bohr=0.5291772108 Angstroms\n",
    "    #1 Hartree = 27.2114 eV\n",
    "    stru= np.multiply(stru,0.5291772108)\n",
    "    ener= np.multiply(ener,27.2114)\n",
    "    ftot_stru= np.multiply(ftot_stru, (27.2114/0.5291772108))\n",
    "    return species_simb, name, stru, ftot_stru, ener\n",
    "\n",
    "def get_nat_mass_latvec_in_strten_in(path_to_file, trans):\n",
    "    data= open(path_to_file).read()\n",
    "    nat= int(re.findall('natom\\s+([0-9]+)', data)[0])\n",
    "    typat= map(int, re.findall('\\s+typat\\s+(.+)',data)[0].split())\n",
    "    #znucl= map(float, re.findall('\\s+znucl((?:\\s+\\d+.\\d+\\s+)+)',data))\n",
    "    znucl= map(int, map(float, re.findall('\\s+znucl\\s+(.+)',data)[0].split()))\n",
    "    z_struc=[]\n",
    "    mass=[]\n",
    "    trans_inv={}\n",
    "    for i in trans.keys():\n",
    "        trans_inv[trans[i]]= i    \n",
    "    for i in typat:\n",
    "        z_struc.append(trans_inv[znucl[i-1]])\n",
    "    z_struc= np.array(z_struc)\n",
    "    a1= map(float, re.findall('R.1.=\\s*(.\\d+...\\d+\\s+.\\d+...\\d+\\s+.\\d+...\\d+)', data)[0].split())\n",
    "    a2= map(float, re.findall('R.2.=\\s*(.\\d+...\\d+\\s+.\\d+...\\d+\\s+.\\d+...\\d+)', data)[0].split())\n",
    "    a3= map(float, re.findall('R.3.=\\s*(.\\d+...\\d+\\s+.\\d+...\\d+\\s+.\\d+...\\d+)', data)[0].split())\n",
    "    latvec_in= np.array([a1,a2,a3]).T\n",
    "    latvec_in.astype('float64')\n",
    "    strten_in= []\n",
    "    strten_in.append(np.float64(re.findall('sigma.1\\s+1.=(\\s+.\\d+.\\d+..\\d+)', data)[0]))\n",
    "    strten_in.append(np.float64(re.findall('sigma.2\\s+2.=(\\s+.\\d+.\\d+..\\d+)', data)[0]))\n",
    "    strten_in.append(np.float64(re.findall('sigma.3\\s+3.=(\\s+.\\d+.\\d+..\\d+)', data)[0]))\n",
    "    strten_in.append(np.float64(re.findall('sigma.3\\s+2.=(\\s+.\\d+.\\d+..\\d+)', data)[0]))\n",
    "    strten_in.append(np.float64(re.findall('sigma.3\\s+1.=(\\s+.\\d+.\\d+..\\d+)', data)[0]))\n",
    "    strten_in.append(np.float64(re.findall('sigma.2\\s+1.=(\\s+.\\d+.\\d+..\\d+)', data)[0]))\n",
    "    strten_in= np.array(strten_in)\n",
    "    return nat, mass, latvec_in, strten_in,z_struc\n",
    "\n",
    "def get_xred_fcart(path_to_file, nat):\n",
    "    #1 Ha/Bohr3 = 29421.02648438959 GPa\n",
    "    data= open(path_to_file).readlines()\n",
    "    for n,line in enumerate(data):\n",
    "        if re.findall('reduced\\s+coordinates\\s+.array\\s+xred', str(line)): \n",
    "            xred_temp=  data[n+1:n+1+nat]\n",
    "            xred= np.array([map(float, i.split('\\n')[0].split()) for i in xred_temp]).T\n",
    "            xred.astype('float64')\n",
    "        elif re.findall('cartesian\\s+forces\\s+.hartree.bohr', str(line)): \n",
    "            fcart_temp=  data[n+1:n+1+nat]\n",
    "            fcart= np.array([map(float, i.split('\\n')[0].split()) for i in fcart_temp])[:,1:]\n",
    "            fcart= fcart.T\n",
    "            fcart.astype('float64')\n",
    "        elif re.findall('>>>>>>>>>\\s+Etotal=\\s+.\\d+', str(line)):#hartree \n",
    "            ener=  re.findall('>>>>>>>>>\\s+Etotal=(\\s+.\\d+.\\d+..\\d+)', str(line))\n",
    "            ener= np.float64(ener[0])\n",
    "        elif re.findall('Pressure=\\s+\\d+.\\d+..\\d+', str(line)):#this preassure in GPa\n",
    "            pressure=  re.findall('Pressure=(\\s+\\d+.\\d+..\\d+)', str(line))\n",
    "            pressure= np.float64(pressure[0])\n",
    "    return xred, fcart, ener"
   ]
  },
  {
   "cell_type": "code",
   "execution_count": null,
   "metadata": {
    "collapsed": true
   },
   "outputs": [],
   "source": []
  }
 ],
 "metadata": {
  "kernelspec": {
   "display_name": "Python [conda root]",
   "language": "python",
   "name": "conda-root-py"
  },
  "language_info": {
   "codemirror_mode": {
    "name": "ipython",
    "version": 2
   },
   "file_extension": ".py",
   "mimetype": "text/x-python",
   "name": "python",
   "nbconvert_exporter": "python",
   "pygments_lexer": "ipython2",
   "version": "2.7.13"
  }
 },
 "nbformat": 4,
 "nbformat_minor": 2
}
