{
 "cells": [
  {
   "cell_type": "code",
   "execution_count": 1,
   "metadata": {
    "collapsed": true
   },
   "outputs": [],
   "source": [
    "import numpy as np\n",
    "import re\n",
    "import os\n",
    "import pychemia as pc\n",
    "import mlmd.tools.readers as readers\n",
    "import mlmd.tools.builders as builders"
   ]
  },
  {
   "cell_type": "code",
   "execution_count": 2,
   "metadata": {
    "collapsed": true
   },
   "outputs": [],
   "source": [
    "#path to the training.in file\n",
    "path_to_training_file='training_features_abinit.in'\n",
    "#reading the information in training.in file\n",
    "path_to_dft_data,code, pote_name, feature_parameters,\\\n",
    "GBR_E_parameters, GBR_F_parameters, nn_E_parameters, nn_F_parameters= readers.load_training(path_to_training_file)"
   ]
  },
  {
   "cell_type": "code",
   "execution_count": 3,
   "metadata": {
    "collapsed": true
   },
   "outputs": [],
   "source": [
    "# Loading the parameters for the feature calcuation\n",
    "\n",
    "trans = feature_parameters['trans']\n",
    "#trans -> translation dictionary {'chemical simbol':nuclear number Z}\n",
    "#trans={'C': 6, 'Si': 14} for a potential with C and O\n",
    "\n",
    "eta2b = feature_parameters['eta2b']\n",
    "#values for the eta 2 body parameter in the Filter Behler Parrinello features\n",
    "\n",
    "Rp = feature_parameters['Rp']\n",
    "#values for the Rp (gaussian centers 2 body interaction) parameter in the Filter Behler Parrinello features\n",
    "\n",
    "eta3b = feature_parameters['eta3b']\n",
    "#values for the eta 3 body parameter in the Filter Behler Parrinello features\n",
    "\n",
    "cos_p = feature_parameters['cos_p']\n",
    "#values for the cos(\\theta_P) (gaussian centers 3 body interaction) \n",
    "#parameter in the Filter Behler Parrinello features"
   ]
  },
  {
   "cell_type": "code",
   "execution_count": 4,
   "metadata": {
    "collapsed": false
   },
   "outputs": [],
   "source": [
    "#loading information from the directory with the dft calculations\n",
    "species_simb, stru_names,stru,ftot_stru, ener= readers.load_abinit_structures(path_to_dft_data.strip(), trans)\n",
    "#species_simb -> array with length (number of structures)\n",
    "#species_simb[i] -> array with the composition of the i structure\n",
    "\n",
    "#stru_names -> empty array \n",
    "\n",
    "#stru -> numpy_array with lenght (number of structures)\n",
    "#stru[i] -> numpy_array with the positions of the atoms in structure i\n",
    "#stru[i] -> has shape (number_of_atoms, 3(xyz_coordinates))\n",
    "\n",
    "#ftot_stru -> numpy_array with lenght (number of structures)\n",
    "#ftot_stru[i] -> numpy_array with the forces over the atoms in structure i\n",
    "#ftot_stru[i] -> has shape (number_of_atoms, 3(xyz_coordinates))\n",
    "\n",
    "#ener -> numpy_aray with lenght (number of structures)\n",
    "#ener[i] -> energy of the i structure"
   ]
  },
  {
   "cell_type": "code",
   "execution_count": 5,
   "metadata": {
    "collapsed": false
   },
   "outputs": [
    {
     "name": "stderr",
     "output_type": "stream",
     "text": [
      "/home/accounts/zeledon/anaconda2/lib/python2.7/site-packages/mlmd-0.1-py2.7-linux-x86_64.egg/mlmd/tools/geometry.py:15: RuntimeWarning: invalid value encountered in divide\n",
      "/home/accounts/zeledon/anaconda2/lib/python2.7/site-packages/mlmd-0.1-py2.7-linux-x86_64.egg/mlmd/tools/geometry.py:16: RuntimeWarning: divide by zero encountered in divide\n",
      "/home/accounts/zeledon/anaconda2/lib/python2.7/site-packages/mlmd-0.1-py2.7-linux-x86_64.egg/mlmd/tools/geometry.py:18: RuntimeWarning: divide by zero encountered in divide\n",
      "/home/accounts/zeledon/anaconda2/lib/python2.7/site-packages/mlmd-0.1-py2.7-linux-x86_64.egg/mlmd/tools/geometry.py:94: RuntimeWarning: invalid value encountered in multiply\n",
      "/home/accounts/zeledon/anaconda2/lib/python2.7/site-packages/mlmd-0.1-py2.7-linux-x86_64.egg/mlmd/tools/geometry.py:97: RuntimeWarning: invalid value encountered in multiply\n"
     ]
    }
   ],
   "source": [
    "feat_2b, feat_3b,X, DX= builders.build_FBP_DFBP(trans, eta2b,\\\n",
    "                        Rp, eta3b, cos_p,species_simb, stru_names, stru)\n",
    "#X-> Filtered Behler & Parrinello (FBP)\n",
    "#X-> Feature representation of stru (numb_struc, numb_of_features)\n",
    "#DX -> Derivative of FBP\n",
    "#DX dimensions (structures, atoms_in_structure, number_of_features, xyz_components)\n",
    "#feat_2b numb_of_2-body featues\n",
    "#feat_3b numb_of_3-body featues"
   ]
  },
  {
   "cell_type": "code",
   "execution_count": null,
   "metadata": {
    "collapsed": true
   },
   "outputs": [],
   "source": []
  }
 ],
 "metadata": {
  "kernelspec": {
   "display_name": "Python [conda root]",
   "language": "python",
   "name": "conda-root-py"
  },
  "language_info": {
   "codemirror_mode": {
    "name": "ipython",
    "version": 2
   },
   "file_extension": ".py",
   "mimetype": "text/x-python",
   "name": "python",
   "nbconvert_exporter": "python",
   "pygments_lexer": "ipython2",
   "version": "2.7.13"
  }
 },
 "nbformat": 4,
 "nbformat_minor": 2
}
