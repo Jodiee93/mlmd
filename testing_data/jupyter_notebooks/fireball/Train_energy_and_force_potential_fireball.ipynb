{
 "cells": [
  {
   "cell_type": "code",
   "execution_count": 1,
   "metadata": {
    "collapsed": false
   },
   "outputs": [],
   "source": [
    "#Load needed libraries\n",
    "#import pychemia as pc\n",
    "import numpy as np\n",
    "import re\n",
    "import os\n",
    "from ase.io import read, write\n",
    "import mlmd.tools.readers as readers\n",
    "import mlmd.tools.builders as builders\n",
    "import mlmd.tools.storage as storage\n",
    "import mlmd.machine_learning.mlt as mlt\n",
    "import mlmd.machine_learning.mlp as mlp\n",
    "from sklearn.externals import joblib"
   ]
  },
  {
   "cell_type": "code",
   "execution_count": 2,
   "metadata": {
    "collapsed": true
   },
   "outputs": [],
   "source": [
    "#path to the training.in file\n",
    "path_to_training_file='training_features_fireball.in'\n",
    "#reading the information in training.in file\n",
    "path_to_dft_data,code, pote_name, feature_parameters,\\\n",
    "GBR_E_parameters, GBR_F_parameters, nn_E_parameters, nn_F_parameters= readers.load_training(path_to_training_file)"
   ]
  },
  {
   "cell_type": "code",
   "execution_count": 3,
   "metadata": {
    "collapsed": true
   },
   "outputs": [],
   "source": [
    "# Loading the parameters for the feature calcuation\n",
    "\n",
    "trans = feature_parameters['trans']\n",
    "#trans -> translation dictionary {'chemical simbol':nuclear number Z}\n",
    "#trans={'C': 6, 'Si': 14} for a potential with C and O\n",
    "\n",
    "eta2b = feature_parameters['eta2b']\n",
    "#values for the eta 2 body parameter in the Filter Behler Parrinello features\n",
    "\n",
    "Rp = feature_parameters['Rp']\n",
    "#values for the Rp (gaussian centers 2 body interaction) parameter in the Filter Behler Parrinello features\n",
    "\n",
    "eta3b = feature_parameters['eta3b']\n",
    "#values for the eta 3 body parameter in the Filter Behler Parrinello features\n",
    "\n",
    "cos_p = feature_parameters['cos_p']\n",
    "#values for the cos(\\theta_P) (gaussian centers 3 body interaction) \n",
    "#parameter in the Filter Behler Parrinello features\n",
    "\n",
    "validation_percentage = feature_parameters['validation_percentage']"
   ]
  },
  {
   "cell_type": "code",
   "execution_count": 4,
   "metadata": {
    "collapsed": false
   },
   "outputs": [],
   "source": [
    "#loading information from the directory with the dft calculations\n",
    "stru_symb,stru_name,stru_posi,stru_forc,stru_ener= readers.load_structures_from_xyz_log(path_to_dft_data.strip())\n",
    "#arrays to store information needed for training\n",
    "\n",
    "#stru_symb -> array with length (number of structures)\n",
    "#stru_symb[i] -> array with the composition of the i structure\n",
    "\n",
    "#stru_posi -> numpy_array with lenght (number of structures)\n",
    "#stru_posi[i] -> numpy_array with the positions of the atoms in structure i\n",
    "#stru_posi[i] -> has shape (number_of_atoms, 3(xyz_coordinates))\n",
    "\n",
    "#stru_forc -> numpy_array with lenght (number of structures)\n",
    "#stru_forc[i] -> numpy_array with the forces over the atoms in structure i\n",
    "#stru_forc[i] -> has shape (number_of_atoms, 3(xyz_coordinates))\n",
    "\n",
    "#stru_ener -> numpy_aray with lenght (number of structures)\n",
    "#stru_ener[i] -> energy of the i structure"
   ]
  },
  {
   "cell_type": "code",
   "execution_count": 5,
   "metadata": {
    "collapsed": false
   },
   "outputs": [
    {
     "name": "stderr",
     "output_type": "stream",
     "text": [
      "/home/accounts/zeledon/anaconda2/lib/python2.7/site-packages/mlmd-0.1-py2.7-linux-x86_64.egg/mlmd/tools/geometry.py:15: RuntimeWarning: invalid value encountered in divide\n",
      "/home/accounts/zeledon/anaconda2/lib/python2.7/site-packages/mlmd-0.1-py2.7-linux-x86_64.egg/mlmd/tools/geometry.py:16: RuntimeWarning: divide by zero encountered in divide\n",
      "/home/accounts/zeledon/anaconda2/lib/python2.7/site-packages/mlmd-0.1-py2.7-linux-x86_64.egg/mlmd/tools/geometry.py:18: RuntimeWarning: divide by zero encountered in divide\n",
      "/home/accounts/zeledon/anaconda2/lib/python2.7/site-packages/mlmd-0.1-py2.7-linux-x86_64.egg/mlmd/tools/geometry.py:94: RuntimeWarning: invalid value encountered in multiply\n",
      "/home/accounts/zeledon/anaconda2/lib/python2.7/site-packages/mlmd-0.1-py2.7-linux-x86_64.egg/mlmd/tools/geometry.py:97: RuntimeWarning: invalid value encountered in multiply\n"
     ]
    }
   ],
   "source": [
    "feat_2b, feat_3b,X, DX= builders.build_SIFF_DSIFF(trans, eta2b,\\\n",
    "                        Rp, eta3b, cos_p,stru_symb, stru_name, stru_posi)\n",
    "#X-> Filtered Behler & Parrinello (FBP)\n",
    "#X-> Feature representation of stru (numb_struc, numb_of_features)\n",
    "#DX -> Derivative of FBP\n",
    "#DX dimensions (structures, atoms_in_structure, number_of_features, xyz_components)\n",
    "#feat_2b numb_of_2-body featues\n",
    "#feat_3b numb_of_3-body featues"
   ]
  },
  {
   "cell_type": "code",
   "execution_count": 6,
   "metadata": {
    "collapsed": false
   },
   "outputs": [],
   "source": [
    "dire_expe_name='training_data_test_1'\n",
    "storage.save_features_E_F(feat_2b, feat_3b,dire_expe_name, stru_name,eta2b, Rp,\\\n",
    "                          eta3b, cos_p, stru_forc, stru_ener, X, DX)\n",
    "np.save(dire_expe_name+'/feature_parameters', feature_parameters)\n",
    "#for loading fetures already calculated use\n",
    "#stru_ener, X, stru_forc, DX= readers.load_features_from_file(dire_expe_name)"
   ]
  },
  {
   "cell_type": "code",
   "execution_count": 7,
   "metadata": {
    "collapsed": true
   },
   "outputs": [],
   "source": [
    "# train GBR E models\n",
    "#loading parameters for the GBR E models\n",
    "\n",
    "GBR_E_models_to_train = GBR_E_parameters['GBR_E_models_to_train']\n",
    "GBR_E_n_estimators = GBR_E_parameters['GBR_E_n_estimators']\n",
    "GBR_E_max_depth = GBR_E_parameters['GBR_E_max_depth']\n",
    "GBR_E_min_samples_split = GBR_E_parameters['GBR_E_min_samples_split']\n",
    "GBR_E_min_samples_leaf = GBR_E_parameters['GBR_E_min_samples_leaf']\n",
    "GBR_E_learning_rate = GBR_E_parameters['GBR_E_learning_rate']"
   ]
  },
  {
   "cell_type": "code",
   "execution_count": 8,
   "metadata": {
    "collapsed": false
   },
   "outputs": [
    {
     "data": {
      "text/plain": [
       "['training_data_test_1/E/scaler_E.sav']"
      ]
     },
     "execution_count": 8,
     "metadata": {},
     "output_type": "execute_result"
    }
   ],
   "source": [
    "#training GBR E models and select the best\n",
    "#training GBR E model\n",
    "E_mode= [] #array to store GBR E models\n",
    "E_eval= [] #array to store the mse validation of the models\n",
    "E_scal= [] #array to store the energy scaler\n",
    "for GBR_i in range(GBR_E_models_to_train[0]):\n",
    "    #create training objetc for energy and  forces\n",
    "    training= mlt.mlt(stru_ener, X, stru_forc, DX)\n",
    "    \n",
    "    #create training objetc for energy\n",
    "    #training= mlt.mlt(stru_ener, X)\n",
    "    \n",
    "    #creating the training and validation sets\n",
    "    E_scal.append(training.preprocessing_X_SIFF_return_scaler(validation_percentage[0]))\n",
    "    n_estimators = GBR_E_n_estimators[GBR_i]\n",
    "    max_depth = GBR_E_max_depth[GBR_i]\n",
    "    min_samples_split = GBR_E_min_samples_split[GBR_i] \n",
    "    min_samples_leaf = GBR_E_min_samples_leaf[GBR_i]\n",
    "    learning_rate = GBR_E_learning_rate[GBR_i]\n",
    "    parameters_dict = {'n_estimators': n_estimators, 'max_depth': max_depth, 'min_samples_split': min_samples_split,\n",
    "          'learning_rate': learning_rate, 'loss': 'ls', 'min_samples_leaf':min_samples_leaf}\n",
    "    \n",
    "    mse, GBR_E_mode= training.GBR_train_evaluate_E_model(parameters_dict)\n",
    "    E_eval.append(mse)\n",
    "    E_mode.append(GBR_E_mode)\n",
    "    \n",
    "#selecting best GBR model\n",
    "E_sorted= np.argsort(np.array(E_eval))\n",
    "GBR_E_mode= E_mode[E_sorted[0]]\n",
    "E_scal= E_scal[E_sorted[0]]\n",
    "#save best GBR model\n",
    "os.mkdir('%s/E' % dire_expe_name)\n",
    "filename = '%s/E/GBR_E.sav' % dire_expe_name\n",
    "joblib.dump(GBR_E_mode, filename)\n",
    "\n",
    "filename = '%s/E/scaler_E.sav' % dire_expe_name\n",
    "joblib.dump(E_scal, filename)"
   ]
  },
  {
   "cell_type": "code",
   "execution_count": 9,
   "metadata": {
    "collapsed": true
   },
   "outputs": [],
   "source": [
    "#loading parameters for the GBR F models\n",
    "GBR_F_models_to_train = GBR_F_parameters['GBR_F_models_to_train']\n",
    "GBR_F_n_estimators = GBR_F_parameters['GBR_F_n_estimators']\n",
    "GBR_F_max_depth = GBR_F_parameters['GBR_F_max_depth']\n",
    "GBR_F_min_samples_split = GBR_F_parameters['GBR_F_min_samples_split']\n",
    "GBR_F_min_samples_leaf = GBR_F_parameters['GBR_F_min_samples_leaf']\n",
    "GBR_F_learning_rate = GBR_F_parameters['GBR_F_learning_rate']"
   ]
  },
  {
   "cell_type": "code",
   "execution_count": 10,
   "metadata": {
    "collapsed": false
   },
   "outputs": [
    {
     "data": {
      "text/plain": [
       "['training_data_test_1/F/scaler_Fz.sav']"
      ]
     },
     "execution_count": 10,
     "metadata": {},
     "output_type": "execute_result"
    }
   ],
   "source": [
    "#training GBR F models and select the best\n",
    "#training GBR F model\n",
    "F_mode= [] #array to store GBR F models\n",
    "F_eval= [] #array to store the mse validation of the models\n",
    "F_scal= [] #array to store the force scaler\n",
    "#GBR force training\n",
    "for GBR_i in range(GBR_F_models_to_train[0]):\n",
    "    #create training objetc for energy and  forces\n",
    "    training= mlt.mlt(stru_ener, X, stru_forc, DX)\n",
    "    \n",
    "    F_scal.append(training.preprocessing_DX_DSIFF_return_scaler(validation_percentage[0]))\n",
    "    n_estimators = GBR_F_n_estimators[GBR_i]\n",
    "    max_depth = GBR_F_max_depth[GBR_i]\n",
    "    min_samples_split = GBR_F_min_samples_split[GBR_i] \n",
    "    min_samples_leaf = GBR_F_min_samples_leaf[GBR_i]\n",
    "    learning_rate = GBR_F_learning_rate[GBR_i]\n",
    "    parameters_dict = {'n_estimators': n_estimators, 'max_depth': max_depth, 'min_samples_split': min_samples_split,\n",
    "          'learning_rate': learning_rate, 'loss': 'ls', 'min_samples_leaf':min_samples_leaf}\n",
    "    #print 'GBR_F_%s_%d'%(pote_name, GBR_i)\n",
    "    mse1, GBR_F_0= training.GBR_train_evaluate_F_model(0,parameters_dict) #x\n",
    "    mse2, GBR_F_1= training.GBR_train_evaluate_F_model(1,parameters_dict) #y\n",
    "    mse3, GBR_F_2= training.GBR_train_evaluate_F_model(2,parameters_dict) #z\n",
    "\n",
    "    F_eval.append((mse1 + mse2 + mse3)/3.0)\n",
    "    F_mode.append([GBR_F_0, GBR_F_1, GBR_F_2])\n",
    "    \n",
    "#selecting best GBR model\n",
    "F_sorted= np.argsort(np.array(F_eval))\n",
    "GBR_F_mode= F_mode[F_sorted[0]]\n",
    "F_scal= F_scal[F_sorted[0]]\n",
    "#save best GBR model\n",
    "os.mkdir('%s/F' % dire_expe_name)\n",
    "for comp in range(3):\n",
    "    filename = '%s/F/GBR_F_comp_%d.sav' % (dire_expe_name, comp)\n",
    "    joblib.dump(GBR_F_mode[comp], filename)\n",
    "    \n",
    "\n",
    "filename = '%s/F/scaler_Fx.sav' % dire_expe_name\n",
    "joblib.dump(F_scal[0], filename)\n",
    "\n",
    "filename = '%s/F/scaler_Fy.sav' % dire_expe_name\n",
    "joblib.dump(F_scal[1], filename)\n",
    "\n",
    "filename = '%s/F/scaler_Fz.sav' % dire_expe_name\n",
    "joblib.dump(F_scal[2], filename)"
   ]
  },
  {
   "cell_type": "code",
   "execution_count": null,
   "metadata": {
    "collapsed": true
   },
   "outputs": [],
   "source": []
  }
 ],
 "metadata": {
  "kernelspec": {
   "display_name": "Python [conda root]",
   "language": "python",
   "name": "conda-root-py"
  },
  "language_info": {
   "codemirror_mode": {
    "name": "ipython",
    "version": 2
   },
   "file_extension": ".py",
   "mimetype": "text/x-python",
   "name": "python",
   "nbconvert_exporter": "python",
   "pygments_lexer": "ipython2",
   "version": "2.7.13"
  }
 },
 "nbformat": 4,
 "nbformat_minor": 2
}
