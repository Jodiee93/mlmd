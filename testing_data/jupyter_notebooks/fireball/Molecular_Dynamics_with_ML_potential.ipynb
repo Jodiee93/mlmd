{
 "cells": [
  {
   "cell_type": "code",
   "execution_count": 1,
   "metadata": {
    "collapsed": true
   },
   "outputs": [],
   "source": [
    "#Calculate energy and forces with a machine learning\n",
    "#potential, for a given structure"
   ]
  },
  {
   "cell_type": "code",
   "execution_count": 1,
   "metadata": {
    "collapsed": false
   },
   "outputs": [],
   "source": [
    "import os\n",
    "import shutil\n",
    "import numpy as np\n",
    "from sklearn import preprocessing\n",
    "from sklearn.externals import joblib\n",
    "import mlmd.tools.readers as readers\n",
    "import mlmd.tools.builders as builders\n",
    "import mlmd.machine_learning.mlt as mlt\n",
    "import mlmd.machine_learning.mlp as mlp\n",
    "import mlmd.MD_suit.MD_suit as MD"
   ]
  },
  {
   "cell_type": "code",
   "execution_count": 2,
   "metadata": {
    "collapsed": false
   },
   "outputs": [
    {
     "name": "stderr",
     "output_type": "stream",
     "text": [
      "/home/accounts/zeledon/anaconda2/lib/python2.7/site-packages/mlmd-0.1-py2.7-linux-x86_64.egg/mlmd/tools/geometry.py:15: RuntimeWarning: invalid value encountered in divide\n",
      "/home/accounts/zeledon/anaconda2/lib/python2.7/site-packages/mlmd-0.1-py2.7-linux-x86_64.egg/mlmd/tools/geometry.py:16: RuntimeWarning: divide by zero encountered in divide\n",
      "/home/accounts/zeledon/anaconda2/lib/python2.7/site-packages/mlmd-0.1-py2.7-linux-x86_64.egg/mlmd/tools/geometry.py:18: RuntimeWarning: divide by zero encountered in divide\n",
      "/home/accounts/zeledon/anaconda2/lib/python2.7/site-packages/mlmd-0.1-py2.7-linux-x86_64.egg/mlmd/tools/geometry.py:94: RuntimeWarning: invalid value encountered in multiply\n",
      "/home/accounts/zeledon/anaconda2/lib/python2.7/site-packages/mlmd-0.1-py2.7-linux-x86_64.egg/mlmd/tools/geometry.py:97: RuntimeWarning: invalid value encountered in multiply\n"
     ]
    }
   ],
   "source": [
    "#loads feature parameters from dire_expe_name\n",
    "dire_expe_name='training_data_test'\n",
    "inpu_stru_path= 'input.stru'\n",
    "feature_parameters= np.load(dire_expe_name+'/feature_parameters.npy').item()\n",
    "trans = feature_parameters['trans']\n",
    "eta2b = feature_parameters['eta2b']\n",
    "Rp = feature_parameters['Rp']\n",
    "eta3b = feature_parameters['eta3b']\n",
    "cos_p = feature_parameters['cos_p']\n",
    "stru_name= []\n",
    "#loads initial structure\n",
    "stru_symb, stru_posi= readers.load_md_init_stru(inpu_stru_path)\n",
    "\n",
    "#calculates feature representation for a given initial structure\n",
    "feat_2b, feat_3b,X, DX= builders.build_SIFF_DSIFF(trans, eta2b, Rp, eta3b, cos_p,\\\n",
    "                                                  stru_symb, stru_name, stru_posi)"
   ]
  },
  {
   "cell_type": "code",
   "execution_count": 3,
   "metadata": {
    "collapsed": false
   },
   "outputs": [
    {
     "name": "stdout",
     "output_type": "stream",
     "text": [
      "{'C': 6, 'O': 8}\n"
     ]
    }
   ],
   "source": [
    "print trans"
   ]
  },
  {
   "cell_type": "code",
   "execution_count": 4,
   "metadata": {
    "collapsed": false
   },
   "outputs": [
    {
     "name": "stdout",
     "output_type": "stream",
     "text": [
      "[['C', 'C', 'C', 'C', 'C', 'C', 'O', 'O', 'O', 'O', 'O', 'O', 'O', 'O']]\n"
     ]
    }
   ],
   "source": [
    "print stru_symb"
   ]
  },
  {
   "cell_type": "code",
   "execution_count": 5,
   "metadata": {
    "collapsed": false
   },
   "outputs": [],
   "source": [
    "#create potential object\n",
    "potential= mlp.mlp(dire_expe_name)\n",
    "#loads E and F potentials (GBR models)\n",
    "potential.load_GBR_E_potential(dire_expe_name)\n",
    "potential.load_GBR_F_potential(dire_expe_name)\n",
    "\n",
    "#scale the feature representation\n",
    "#with the trainned scalers\n",
    "X_scaled= potential.scaler_E.transform(X)\n",
    "DXx_scaled= potential.scaler_Fx.transform(DX[0,:,:,0])\n",
    "DXy_scaled= potential.scaler_Fy.transform(DX[0,:,:,1])\n",
    "DXz_scaled= potential.scaler_Fz.transform(DX[0,:,:,2])"
   ]
  },
  {
   "cell_type": "code",
   "execution_count": 6,
   "metadata": {
    "collapsed": true
   },
   "outputs": [],
   "source": [
    "#predict E and F with ML potential for the inital structure\n",
    "E_pred= potential.predict_E_GBR(X_scaled)\n",
    "F_pred= potential.predict_F_GBR(DXx_scaled, DXy_scaled, DXz_scaled)"
   ]
  },
  {
   "cell_type": "code",
   "execution_count": 7,
   "metadata": {
    "collapsed": false
   },
   "outputs": [],
   "source": [
    "# molecular dynamics part\n",
    "\n",
    "#Load md parameters\n",
    "Qmass, temp, dt, correc_steps, md_steps, exp_name= readers.get_md_parameters('input.md')\n",
    "\n",
    "#initialization of MD variables\n",
    "amu= readers.get_amu(stru_symb, trans)\n",
    "nat= len(stru_symb[0])\n",
    "s_in=1.0 #thermostat degree of freedom\n",
    "s_in_dot= 0.0#time derivative of thermostat degree of freedom\n",
    "r_in= stru_posi[0].T\n",
    "fcart_in= F_pred.T\n",
    "v_in= MD.md_suit.init_vel_atoms(amu, temp,nat) #check units"
   ]
  },
  {
   "cell_type": "code",
   "execution_count": 8,
   "metadata": {
    "collapsed": true
   },
   "outputs": [],
   "source": [
    "#MD loop\n",
    "path_to_xyz='md_path.xyz'\n",
    "s_arra= []\n",
    "for _ in range(md_steps):\n",
    "    s_out, s_out_dot, r_out, v_out= MD.md_suit.md_nvt(r_in,fcart_in, v_in, \\\n",
    "                                                      amu, Qmass, dt, temp, s_in, s_in_dot,\\\n",
    "                                                      correc_steps, 1,nat)\n",
    "    #print get_V_cm(amu, v_in)\n",
    "    #print '*********'\n",
    "    #recalculate forces and energies\n",
    "    #calculate features for r_out\n",
    "    #print r_out.T\n",
    "    #print '*********'\n",
    "    stru_t= np.array([r_out.T])\n",
    "    feat_2b, feat_3b,X, DX= builders.build_SIFF_DSIFF(trans, eta2b, Rp, eta3b, cos_p,\\\n",
    "                                                      stru_symb, stru_name, stru_t)\n",
    "    #scale features from r_out\n",
    "    X_scaled= potential.scaler_E.transform(X)\n",
    "    DXx_scaled= potential.scaler_Fx.transform(DX[0,:,:,0])\n",
    "    DXy_scaled= potential.scaler_Fy.transform(DX[0,:,:,1])\n",
    "    DXz_scaled= potential.scaler_Fz.transform(DX[0,:,:,2])\n",
    "    #predict E and F with ML potential for r_out\n",
    "    E_pred= potential.predict_E_GBR(X_scaled)\n",
    "    F_pred= potential.predict_F_GBR(DXx_scaled, DXy_scaled, DXz_scaled)\n",
    "\n",
    "    temp= readers.get_temp(amu, v_out)\n",
    "    readers.write_xyz(path_to_xyz,  E_pred, temp, stru_symb, r_in)\n",
    "\n",
    "    fcart_in= F_pred.T\n",
    "    s_in= s_out\n",
    "    s_arra.append(s_out)\n",
    "    s_in_dot= s_out_dot\n",
    "    r_in= r_out\n",
    "    v_in= v_out"
   ]
  },
  {
   "cell_type": "code",
   "execution_count": null,
   "metadata": {
    "collapsed": true
   },
   "outputs": [],
   "source": []
  }
 ],
 "metadata": {
  "kernelspec": {
   "display_name": "Python [conda env:anaconda2]",
   "language": "python",
   "name": "conda-env-anaconda2-py"
  },
  "language_info": {
   "codemirror_mode": {
    "name": "ipython",
    "version": 2
   },
   "file_extension": ".py",
   "mimetype": "text/x-python",
   "name": "python",
   "nbconvert_exporter": "python",
   "pygments_lexer": "ipython2",
   "version": "2.7.13"
  }
 },
 "nbformat": 4,
 "nbformat_minor": 2
}
